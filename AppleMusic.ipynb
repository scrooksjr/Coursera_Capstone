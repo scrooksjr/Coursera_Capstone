{
 "cells": [
  {
   "cell_type": "markdown",
   "metadata": {},
   "source": [
    "# Apple Music"
   ]
  },
  {
   "cell_type": "code",
   "execution_count": 4,
   "metadata": {},
   "outputs": [
    {
     "name": "stdout",
     "output_type": "stream",
     "text": [
      "Requirement already satisfied: apple-music-python in /Users/crooks/opt/anaconda3/lib/python3.7/site-packages (1.0.3)\n",
      "Requirement already satisfied: pyjwt>=1.6.4 in /Users/crooks/opt/anaconda3/lib/python3.7/site-packages (from apple-music-python) (1.7.1)\n",
      "Requirement already satisfied: requests>=2.20.1 in /Users/crooks/opt/anaconda3/lib/python3.7/site-packages (from apple-music-python) (2.22.0)\n",
      "Requirement already satisfied: cryptography>=2.4.2 in /Users/crooks/opt/anaconda3/lib/python3.7/site-packages (from apple-music-python) (2.8)\n",
      "Requirement already satisfied: certifi>=2017.4.17 in /Users/crooks/opt/anaconda3/lib/python3.7/site-packages (from requests>=2.20.1->apple-music-python) (2019.11.28)\n",
      "Requirement already satisfied: idna<2.9,>=2.5 in /Users/crooks/opt/anaconda3/lib/python3.7/site-packages (from requests>=2.20.1->apple-music-python) (2.8)\n",
      "Requirement already satisfied: urllib3!=1.25.0,!=1.25.1,<1.26,>=1.21.1 in /Users/crooks/opt/anaconda3/lib/python3.7/site-packages (from requests>=2.20.1->apple-music-python) (1.25.8)\n",
      "Requirement already satisfied: chardet<3.1.0,>=3.0.2 in /Users/crooks/opt/anaconda3/lib/python3.7/site-packages (from requests>=2.20.1->apple-music-python) (3.0.4)\n",
      "Requirement already satisfied: cffi!=1.11.3,>=1.8 in /Users/crooks/opt/anaconda3/lib/python3.7/site-packages (from cryptography>=2.4.2->apple-music-python) (1.14.0)\n",
      "Requirement already satisfied: six>=1.4.1 in /Users/crooks/opt/anaconda3/lib/python3.7/site-packages (from cryptography>=2.4.2->apple-music-python) (1.14.0)\n",
      "Requirement already satisfied: pycparser in /Users/crooks/opt/anaconda3/lib/python3.7/site-packages (from cffi!=1.11.3,>=1.8->cryptography>=2.4.2->apple-music-python) (2.19)\n",
      "Note: you may need to restart the kernel to use updated packages.\n"
     ]
    }
   ],
   "source": [
    "pip install apple-music-python"
   ]
  },
  {
   "cell_type": "code",
   "execution_count": 2,
   "metadata": {},
   "outputs": [],
   "source": [
    "import os\n",
    "import applemusicpy\n",
    "\n",
    "secret_key = open(os.path.expanduser(\"~/Downloads/AuthKey_2X3287F4LF.p8\"), 'rb').read()\n",
    "key_id = '2X3287F4LF'\n",
    "team_id = '79RZMEDA37'\n",
    "\n",
    "beatdrop_music = applemusicpy.AppleMusic(secret_key=secret_key,key_id=key_id,team_id=team_id)"
   ]
  },
  {
   "cell_type": "code",
   "execution_count": null,
   "metadata": {},
   "outputs": [],
   "source": [
    "_album = beatdrop_music.search('travis scott', types=['albums'], limit=5)\n",
    "for item in _album['results']['albums']['data']:\n",
    "    print(item['attributes']['name'])"
   ]
  },
  {
   "cell_type": "code",
   "execution_count": 51,
   "metadata": {},
   "outputs": [
    {
     "name": "stdout",
     "output_type": "stream",
     "text": [
      "SICKO MODE\n",
      "goosebumps\n",
      "pick up the phone\n",
      "OUT WEST (feat. Young Thug)\n",
      "YOSEMITE\n"
     ]
    }
   ],
   "source": [
    "_songs = beatdrop_music.search('travis scott', types=['songs'], limit=5)\n",
    "for item in _songs['results']['songs']['data']:\n",
    "    print(item['attributes']['name'])"
   ]
  },
  {
   "cell_type": "code",
   "execution_count": 74,
   "metadata": {},
   "outputs": [
    {
     "name": "stdout",
     "output_type": "stream",
     "text": [
      "JONES\n",
      "Jonas Brothers\n",
      "Nas\n",
      "Nick Jonas\n",
      "Jim Jones\n"
     ]
    }
   ],
   "source": [
    "_artist = beatdrop_music.search('jones', types=['artists'])\n",
    "for item in _artist['results']['artists']['data']:\n",
    "    print(item['attributes']['name'])"
   ]
  },
  {
   "cell_type": "code",
   "execution_count": 75,
   "metadata": {},
   "outputs": [
    {
     "name": "stdout",
     "output_type": "stream",
     "text": [
      "Music\n",
      "Alternative\n",
      "Blues\n",
      "Children's Music\n",
      "Christian & Gospel\n",
      "Classical\n",
      "Comedy\n",
      "Country\n",
      "Dance\n",
      "Electronic\n",
      "Hip-Hop/Rap\n",
      "Jazz\n",
      "K-Pop\n",
      "Latino\n",
      "Metal\n",
      "Pop\n",
      "R&B/Soul\n",
      "Reggae\n",
      "Rock\n",
      "Singer/Songwriter\n",
      "Soundtrack\n",
      "Worldwide\n"
     ]
    }
   ],
   "source": [
    "_genres = beatdrop_music.genres_all()\n",
    "for item in _genres['data']:\n",
    "    print(item['attributes']['name'])"
   ]
  },
  {
   "cell_type": "code",
   "execution_count": 76,
   "metadata": {},
   "outputs": [
    {
     "name": "stdout",
     "output_type": "stream",
     "text": [
      "Algeria\n",
      "Angola\n",
      "Anguilla\n",
      "Antigua and Barbuda\n",
      "Argentina\n",
      "Armenia\n",
      "Australia\n",
      "Austria\n",
      "Azerbaijan\n",
      "Bahamas\n",
      "Bahrain\n",
      "Barbados\n",
      "Belarus\n",
      "Belgium\n",
      "Belize\n",
      "Benin\n",
      "Bermuda\n",
      "Bhutan\n",
      "Bolivia\n",
      "Bosnia and Herzegovina\n",
      "Botswana\n",
      "Brazil\n",
      "British Virgin Islands\n",
      "Bulgaria\n",
      "Cambodia\n",
      "Cameroon\n",
      "Canada\n",
      "Cape Verde\n",
      "Cayman Islands\n",
      "Chad\n",
      "Chile\n",
      "China mainland\n",
      "Colombia\n",
      "Costa Rica\n",
      "Croatia\n",
      "Cyprus\n",
      "Czech Republic\n",
      "Côte d'Ivoire\n",
      "Democratic Republic of the Congo\n",
      "Denmark\n",
      "Dominica\n",
      "Dominican Republic\n",
      "Ecuador\n",
      "Egypt\n",
      "El Salvador\n",
      "Estonia\n",
      "Fiji\n",
      "Finland\n",
      "France\n",
      "Gabon\n",
      "Gambia\n",
      "Georgia\n",
      "Germany\n",
      "Ghana\n",
      "Greece\n",
      "Grenada\n",
      "Guatemala\n",
      "Guinea-Bissau\n",
      "Guyana\n",
      "Honduras\n",
      "Hong Kong\n",
      "Hungary\n",
      "Iceland\n",
      "India\n",
      "Indonesia\n",
      "Iraq\n",
      "Ireland\n",
      "Israel\n",
      "Italy\n",
      "Jamaica\n",
      "Japan\n",
      "Jordan\n",
      "Kazakhstan\n",
      "Kenya\n",
      "Korea, Republic of\n",
      "Kosovo\n",
      "Kuwait\n",
      "Kyrgyzstan\n",
      "Lao People's Democratic Republic\n",
      "Latvia\n",
      "Lebanon\n",
      "Liberia\n",
      "Libya\n",
      "Lithuania\n",
      "Luxembourg\n",
      "Macao\n",
      "Madagascar\n",
      "Malawi\n",
      "Malaysia\n",
      "Maldives\n",
      "Mali\n",
      "Malta\n",
      "Mauritania\n",
      "Mauritius\n",
      "Mexico\n",
      "Micronesia, Federated States of\n",
      "Moldova\n",
      "Mongolia\n",
      "Montenegro\n",
      "Montserrat\n",
      "Morocco\n",
      "Mozambique\n",
      "Myanmar\n",
      "Namibia\n",
      "Nepal\n",
      "Netherlands\n",
      "New Zealand\n",
      "Nicaragua\n",
      "Niger\n",
      "Nigeria\n",
      "North Macedonia\n",
      "Norway\n",
      "Oman\n",
      "Panama\n",
      "Papua New Guinea\n",
      "Paraguay\n",
      "Peru\n",
      "Philippines\n",
      "Poland\n",
      "Portugal\n",
      "Qatar\n",
      "Republic of the Congo\n",
      "Romania\n",
      "Russia\n",
      "Rwanda\n",
      "Saudi Arabia\n",
      "Senegal\n",
      "Serbia\n",
      "Seychelles\n",
      "Sierra Leone\n",
      "Singapore\n",
      "Slovakia\n",
      "Slovenia\n",
      "Solomon Islands\n",
      "South Africa\n",
      "Spain\n",
      "Sri Lanka\n",
      "St. Kitts and Nevis\n",
      "St. Lucia\n",
      "St. Vincent and The Grenadines\n",
      "Suriname\n",
      "Swaziland\n",
      "Sweden\n",
      "Switzerland\n",
      "Taiwan\n",
      "Tajikistan\n",
      "Tanzania\n",
      "Thailand\n",
      "Tonga\n",
      "Trinidad and Tobago\n",
      "Tunisia\n",
      "Turkey\n",
      "Turkmenistan\n",
      "Turks and Caicos\n",
      "UAE\n",
      "Uganda\n",
      "Ukraine\n",
      "United Kingdom\n",
      "United States\n",
      "Uruguay\n",
      "Uzbekistan\n",
      "Vanuatu\n",
      "Venezuela\n",
      "Vietnam\n",
      "Yemen\n",
      "Zambia\n",
      "Zimbabwe\n"
     ]
    }
   ],
   "source": [
    "_storefronts_all = beatdrop_music.storefronts_all()\n",
    "for item in _storefronts_all['data']:\n",
    "    print(item['attributes']['name'])"
   ]
  },
  {
   "cell_type": "code",
   "execution_count": null,
   "metadata": {},
   "outputs": [],
   "source": []
  }
 ],
 "metadata": {
  "kernelspec": {
   "display_name": "Python 3",
   "language": "python",
   "name": "python3"
  },
  "language_info": {
   "codemirror_mode": {
    "name": "ipython",
    "version": 3
   },
   "file_extension": ".py",
   "mimetype": "text/x-python",
   "name": "python",
   "nbconvert_exporter": "python",
   "pygments_lexer": "ipython3",
   "version": "3.7.6"
  }
 },
 "nbformat": 4,
 "nbformat_minor": 4
}
